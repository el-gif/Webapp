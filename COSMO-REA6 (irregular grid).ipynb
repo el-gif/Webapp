{
 "cells": [
  {
   "cell_type": "markdown",
   "metadata": {},
   "source": [
    "load historical weather data (wind speed)"
   ]
  },
  {
   "cell_type": "code",
   "execution_count": null,
   "metadata": {},
   "outputs": [],
   "source": [
    "import numpy as np\n",
    "import netCDF4 as nc\n",
    "from netCDF4 import num2date\n",
    "\n",
    "wind_speed_file = \"data/weather_history/COSMO_REA6/WS_100m.2D.201501.nc4\"\n",
    "\n",
    "wind_speed = nc.Dataset(wind_speed_file)\n",
    "\n",
    "number_hours = 48\n",
    "\n",
    "lons = wind_speed['RLON'][:].filled(np.nan)\n",
    "lons = np.where(lons > 180, lons - 360, lons)\n",
    "lats = wind_speed['RLAT'][:].filled(np.nan)\n",
    "time_unit = wind_speed['time'].units\n",
    "times = num2date(wind_speed['time'][:number_hours], time_unit)\n",
    "times = np.array([np.datetime64(t.strftime('%Y-%m-%dT%H:%M:%S')) for t in times])\n",
    "wind_speeds = wind_speed['wind_speed'][:number_hours,:,:].filled(np.nan) # convert masked array to regular array by converting masked values to nan values\n",
    "\n",
    "np.save(\"data/weather_history/COSMO_REA6/lons.npy\", lons)\n",
    "np.save(\"data/weather_history/COSMO_REA6/lats.npy\", lats)\n",
    "np.save(\"data/weather_history/COSMO_REA6/times.npy\", times)\n",
    "np.save(\"data/weather_history/COSMO_REA6/wind_speeds.npy\", wind_speeds)"
   ]
  },
  {
   "cell_type": "markdown",
   "metadata": {},
   "source": [
    "wind speeds (COSMO-REA6)"
   ]
  },
  {
   "cell_type": "code",
   "execution_count": null,
   "metadata": {},
   "outputs": [],
   "source": [
    "import netCDF4 as nc\n",
    "\n",
    "fn = r\"C:\\Users\\alexa\\Documents\\Webapp\\data\\weather_history\\WS_100m.2D.199501.nc4\" # January 1995\n",
    "ds = nc.Dataset(fn)\n",
    "\n",
    "print(ds)\n",
    "\n",
    "time = ds.variables['time'][:]\n",
    "lon = ds.variables['RLON'][:]\n",
    "lat = ds.variables['RLAT'][:]\n",
    "wind_speed = ds.variables['wind_speed'][:]\n",
    "\n",
    "for i in range(len(lon)):\n",
    "    for j in range(len(lon[0])):\n",
    "        lon[i,j] = lon[i,j] - 360 if lon[i,j] > 180 else lon[i,j]"
   ]
  },
  {
   "cell_type": "markdown",
   "metadata": {},
   "source": [
    "three different visualisations"
   ]
  },
  {
   "cell_type": "code",
   "execution_count": null,
   "metadata": {},
   "outputs": [],
   "source": [
    "import matplotlib.pyplot as plt\n",
    "import cartopy.crs as ccrs\n",
    "\n",
    "\n",
    "# Erstelle eine Karte mit cartopy\n",
    "plt.figure(figsize=(10, 5))\n",
    "ax = plt.axes(projection=ccrs.PlateCarree())\n",
    "\n",
    "# Trage die Windgeschwindigkeit auf der Karte ein\n",
    "plt.contourf(lon, lat, wind_speed[0,:,:], transform=ccrs.PlateCarree(), cmap='viridis')\n",
    "\n",
    "# Füge Küstenlinien hinzu\n",
    "ax.coastlines()\n",
    "\n",
    "# Zeige die Karte\n",
    "plt.colorbar(label=\"Windgeschwindigkeit (m/s)\")\n",
    "plt.show()\n"
   ]
  },
  {
   "cell_type": "code",
   "execution_count": null,
   "metadata": {},
   "outputs": [],
   "source": [
    "import matplotlib.pyplot as plt\n",
    "import cartopy.crs as ccrs\n",
    "\n",
    "# Erstelle eine Karte mit curvilinearen Daten\n",
    "plt.figure(figsize=(10, 5))\n",
    "ax = plt.axes(projection=ccrs.PlateCarree())\n",
    "\n",
    "# Zeichne die Windgeschwindigkeit auf dem curvilinearen Gitter\n",
    "plt.pcolormesh(lon, lat, wind_speed[0,:,:], transform=ccrs.PlateCarree(), cmap='viridis')\n",
    "\n",
    "# Füge Küstenlinien hinzu\n",
    "ax.coastlines()\n",
    "\n",
    "# Zeige die Karte\n",
    "plt.colorbar(label=\"Windgeschwindigkeit (m/s)\")\n",
    "plt.show()\n"
   ]
  },
  {
   "cell_type": "code",
   "execution_count": null,
   "metadata": {},
   "outputs": [],
   "source": [
    "import cartopy.crs as ccrs\n",
    "import matplotlib.pyplot as plt\n",
    "\n",
    "# Verwende eine Lambert-Projektion\n",
    "ax = plt.axes(projection=ccrs.LambertConformal())\n",
    "\n",
    "# Zeichne die Windgeschwindigkeit auf dem curvilinearen Gitter\n",
    "plt.contourf(lon, lat, wind_speed[0,:,:], transform=ccrs.PlateCarree(), cmap='coolwarm')\n",
    "\n",
    "# Küstenlinien und Raster hinzufügen\n",
    "ax.coastlines()\n",
    "ax.gridlines()\n",
    "\n",
    "plt.colorbar(label=\"Windgeschwindigkeit (m/s)\")\n",
    "plt.show()"
   ]
  }
 ],
 "metadata": {
  "kernelspec": {
   "display_name": "Python 3.12.6",
   "language": "python",
   "name": "base"
  },
  "language_info": {
   "codemirror_mode": {
    "name": "ipython",
    "version": 3
   },
   "file_extension": ".py",
   "mimetype": "text/x-python",
   "name": "python",
   "nbconvert_exporter": "python",
   "pygments_lexer": "ipython3",
   "version": "3.12.5"
  }
 },
 "nbformat": 4,
 "nbformat_minor": 2
}
