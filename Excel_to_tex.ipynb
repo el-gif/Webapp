{
 "cells": [
  {
   "cell_type": "code",
   "execution_count": 1,
   "metadata": {},
   "outputs": [],
   "source": [
    "import pandas as pd\n",
    "\n",
    "# Load Excel file\n",
    "file_path = r\"C:\\Users\\alexa\\Documents\\Webapp\\Excel Tables\\Existing Platforms.xlsx\"\n",
    "df = pd.read_excel(file_path)\n",
    "\n",
    "# Export to LaTeX\n",
    "with open(r\"C:\\Users\\alexa\\Documents\\Webapp\\Excel Tables\\Existing Platforms.tex\", \"w\", encoding=\"utf-8\") as f:\n",
    "    f.write(df.to_latex(index=False, longtable=True, escape=False))\n"
   ]
  }
 ],
 "metadata": {
  "kernelspec": {
   "display_name": "webapp_env_conda",
   "language": "python",
   "name": "python3"
  },
  "language_info": {
   "codemirror_mode": {
    "name": "ipython",
    "version": 3
   },
   "file_extension": ".py",
   "mimetype": "text/x-python",
   "name": "python",
   "nbconvert_exporter": "python",
   "pygments_lexer": "ipython3",
   "version": "3.12.7"
  }
 },
 "nbformat": 4,
 "nbformat_minor": 2
}
