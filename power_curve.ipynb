{
 "cells": [
  {
   "cell_type": "code",
   "execution_count": null,
   "metadata": {},
   "outputs": [],
   "source": [
    "import numpy as np\n",
    "from scipy.interpolate import interp1d\n",
    "import matplotlib.pyplot as plt\n",
    "\n",
    "# Definiere die Power Curve (Windgeschwindigkeit und Leistung)\n",
    "wind_speeds = np.arange(0, 25.5, 0.5)  # Windgeschwindigkeiten\n",
    "power_output = [0]*7 + [35, 80, 155, 238, 350, 474, 630, 802, 1018, 1234, 1504, 1773, 2076, 2379, 2664, 2948, 3141, 3334, 3425, 3515, 3546, 3577, 3586, 3594, 3598, 3599] + [3600]*18  # Leistung\n",
    "max_cap = 3600\n",
    "power_output_norm = [x / max_cap for x in power_output]\n",
    "wind_speed_max = 25\n",
    "\n",
    "# Erstelle die Interpolationsfunktion\n",
    "interpolation_function = interp1d(wind_speeds, power_output_norm, kind='cubic', fill_value=\"extrapolate\")\n",
    "\n",
    "# Beispiel für Interpolation: Bestimme Werte für feinere Windgeschwindigkeiten\n",
    "fine_wind_speeds = np.linspace(0, 25, 100)  # Feinere Windgeschwindigkeiten\n",
    "interpolated_power_output = interpolation_function(fine_wind_speeds)\n",
    "\n",
    "# Plot der diskreten und interpolierten Power Curve\n",
    "plt.figure(figsize=(10, 6))\n",
    "plt.plot(wind_speeds, power_output_norm, 'o', label='Diskrete Werte')  # Diskrete Punkte\n",
    "plt.plot(fine_wind_speeds, interpolated_power_output, '-', label='Interpolierte Werte')  # Interpolierte Werte\n",
    "plt.xlabel('Windgeschwindigkeit (m/s)')\n",
    "plt.ylabel('Leistung (kW)')\n",
    "plt.title('Interpolierte Power Curve')\n",
    "plt.legend()\n",
    "plt.grid(True)\n",
    "plt.show()\n"
   ]
  },
  {
   "cell_type": "markdown",
   "metadata": {},
   "source": []
  }
 ],
 "metadata": {
  "kernelspec": {
   "display_name": "Python 3.12.6",
   "language": "python",
   "name": "base"
  },
  "language_info": {
   "codemirror_mode": {
    "name": "ipython",
    "version": 3
   },
   "file_extension": ".py",
   "mimetype": "text/x-python",
   "name": "python",
   "nbconvert_exporter": "python",
   "pygments_lexer": "ipython3",
   "version": "3.12.5"
  }
 },
 "nbformat": 4,
 "nbformat_minor": 2
}
