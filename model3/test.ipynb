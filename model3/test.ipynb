{
 "cells": [
  {
   "cell_type": "code",
   "execution_count": 1,
   "metadata": {},
   "outputs": [
    {
     "name": "stderr",
     "output_type": "stream",
     "text": [
      "C:\\Users\\alexa\\AppData\\Local\\Temp\\ipykernel_94564\\1540551402.py:26: FutureWarning: 'H' is deprecated and will be removed in a future version, please use 'h' instead.\n",
      "  date_range = pd.date_range(start=start_date, end=end_date, freq=\"H\")\n"
     ]
    },
    {
     "ename": "ValueError",
     "evalue": "The truth value of an array with more than one element is ambiguous. Use a.any() or a.all()",
     "output_type": "error",
     "traceback": [
      "\u001b[1;31m---------------------------------------------------------------------------\u001b[0m",
      "\u001b[1;31mValueError\u001b[0m                                Traceback (most recent call last)",
      "Cell \u001b[1;32mIn[1], line 43\u001b[0m\n\u001b[0;32m     40\u001b[0m forecast_time_str \u001b[38;5;241m=\u001b[39m \u001b[38;5;28mstr\u001b[39m(forecast_time)  \u001b[38;5;66;03m# Convert timestamp to string\u001b[39;00m\n\u001b[0;32m     42\u001b[0m \u001b[38;5;66;03m# Find the closest production value for this forecast time\u001b[39;00m\n\u001b[1;32m---> 43\u001b[0m closest_prod_time \u001b[38;5;241m=\u001b[39m \u001b[38;5;28;43mmin\u001b[39;49m\u001b[43m(\u001b[49m\u001b[43mproduction_dict\u001b[49m\u001b[38;5;241;43m.\u001b[39;49m\u001b[43mkeys\u001b[49m\u001b[43m(\u001b[49m\u001b[43m)\u001b[49m\u001b[43m,\u001b[49m\u001b[43m \u001b[49m\u001b[43mkey\u001b[49m\u001b[38;5;241;43m=\u001b[39;49m\u001b[38;5;28;43;01mlambda\u001b[39;49;00m\u001b[43m \u001b[49m\u001b[43mt\u001b[49m\u001b[43m:\u001b[49m\u001b[43m \u001b[49m\u001b[38;5;28;43mabs\u001b[39;49m\u001b[43m(\u001b[49m\u001b[43mpd\u001b[49m\u001b[38;5;241;43m.\u001b[39;49m\u001b[43mTimestamp\u001b[49m\u001b[43m(\u001b[49m\u001b[43mt\u001b[49m\u001b[43m)\u001b[49m\u001b[43m \u001b[49m\u001b[38;5;241;43m-\u001b[39;49m\u001b[43m \u001b[49m\u001b[43mforecast_time\u001b[49m\u001b[43m)\u001b[49m\u001b[43m)\u001b[49m\n\u001b[0;32m     44\u001b[0m production_value \u001b[38;5;241m=\u001b[39m production_dict[closest_prod_time]\n\u001b[0;32m     46\u001b[0m \u001b[38;5;66;03m# Append dictionary to forecast data\u001b[39;00m\n",
      "\u001b[1;31mValueError\u001b[0m: The truth value of an array with more than one element is ambiguous. Use a.any() or a.all()"
     ]
    }
   ],
   "source": [
    "import numpy as np\n",
    "import pandas as pd\n",
    "import xarray as xr\n",
    "import json\n",
    "import datetime\n",
    "\n",
    "# 1) Read the GRIB file and calculate wind speeds from the u100 and v100 components\n",
    "grib_file = \"2015_test.grib\"\n",
    "\n",
    "# Open the GRIB file using xarray with cfgrib engine\n",
    "ds = xr.open_dataset(grib_file, engine=\"cfgrib\")\n",
    "\n",
    "# Extract U and V wind components at 100m\n",
    "u100 = ds[\"u100\"].values  # U component (east-west)\n",
    "v100 = ds[\"v100\"].values  # V component (north-south)\n",
    "\n",
    "# Compute wind speed from U and V components\n",
    "wind_speeds = np.sqrt(u100**2 + v100**2)"
   ]
  },
  {
   "cell_type": "code",
   "execution_count": null,
   "metadata": {},
   "outputs": [
    {
     "name": "stderr",
     "output_type": "stream",
     "text": [
      "C:\\Users\\alexa\\AppData\\Local\\Temp\\ipykernel_94564\\124219706.py:7: FutureWarning: 'H' is deprecated and will be removed in a future version, please use 'h' instead.\n",
      "  date_range = pd.date_range(start=start_date, end=end_date, freq=\"H\")\n"
     ]
    }
   ],
   "source": [
    "# Get time information from GRIB file\n",
    "forecast_gen_times = pd.to_datetime(ds.valid_time.values)  # Times when forecasts are valid\n",
    "\n",
    "# 2) Create synthetic production data for 01.01.2014 to 31.12.2016\n",
    "start_date = datetime.datetime(2014, 1, 1)\n",
    "end_date = datetime.datetime(2016, 12, 31)\n",
    "date_range = pd.date_range(start=start_date, end=end_date, freq=\"H\")\n",
    "\n",
    "# Generate synthetic production values between 0 and 1\n",
    "production_values = np.random.rand(len(date_range))\n",
    "\n",
    "# 3) Create a JSON file with 49 dictionaries for lead times (0, 3, 6, ..., 144 hours)\n",
    "lead_times = np.arange(0, 145, 3)  # Lead times in hours\n",
    "\n",
    "# list of dictionaries\n",
    "lead_time_dicts = [{\"lead_time\": int(lt), \"date_production_wind\": []} for lt in lead_times]\n",
    "\n",
    "for date, production in zip(date_range, production_values):\n",
    "    for forecast_gen_times_block, wind_speed in zip(forecast_gen_times, wind_speeds):\n",
    "        forecast_end_times_block = np.add(forecast_gen_times_block, pd.to_timedelta(lead_times, unit=\"h\"))\n",
    "        for i, forecast_end_time in enumerate(forecast_end_times_block):\n",
    "            if forecast_end_time == date:\n",
    "                lead_time = lead_times[i]\n",
    "                lead_time_dicts[\"lead_time\"==lead_time][\"date_production_wind\"].append([date, production, wind_speed])"
   ]
  },
  {
   "cell_type": "code",
   "execution_count": 2,
   "metadata": {},
   "outputs": [
    {
     "ename": "ValueError",
     "evalue": "The truth value of an array with more than one element is ambiguous. Use a.any() or a.all()",
     "output_type": "error",
     "traceback": [
      "\u001b[1;31m---------------------------------------------------------------------------\u001b[0m",
      "\u001b[1;31mValueError\u001b[0m                                Traceback (most recent call last)",
      "Cell \u001b[1;32mIn[2], line 5\u001b[0m\n\u001b[0;32m      2\u001b[0m forecast_time_str \u001b[38;5;241m=\u001b[39m \u001b[38;5;28mstr\u001b[39m(forecast_time)  \u001b[38;5;66;03m# Convert timestamp to string\u001b[39;00m\n\u001b[0;32m      4\u001b[0m \u001b[38;5;66;03m# Find the closest production value for this forecast time\u001b[39;00m\n\u001b[1;32m----> 5\u001b[0m closest_prod_time \u001b[38;5;241m=\u001b[39m \u001b[38;5;28;43mmin\u001b[39;49m\u001b[43m(\u001b[49m\u001b[43mproduction_dict\u001b[49m\u001b[38;5;241;43m.\u001b[39;49m\u001b[43mkeys\u001b[49m\u001b[43m(\u001b[49m\u001b[43m)\u001b[49m\u001b[43m,\u001b[49m\u001b[43m \u001b[49m\u001b[43mkey\u001b[49m\u001b[38;5;241;43m=\u001b[39;49m\u001b[38;5;28;43;01mlambda\u001b[39;49;00m\u001b[43m \u001b[49m\u001b[43mt\u001b[49m\u001b[43m:\u001b[49m\u001b[43m \u001b[49m\u001b[38;5;28;43mabs\u001b[39;49m\u001b[43m(\u001b[49m\u001b[43mpd\u001b[49m\u001b[38;5;241;43m.\u001b[39;49m\u001b[43mTimestamp\u001b[49m\u001b[43m(\u001b[49m\u001b[43mt\u001b[49m\u001b[43m)\u001b[49m\u001b[43m \u001b[49m\u001b[38;5;241;43m-\u001b[39;49m\u001b[43m \u001b[49m\u001b[43mforecast_time\u001b[49m\u001b[43m)\u001b[49m\u001b[43m)\u001b[49m\n\u001b[0;32m      6\u001b[0m production_value \u001b[38;5;241m=\u001b[39m production_dict[closest_prod_time]\n\u001b[0;32m      8\u001b[0m \u001b[38;5;66;03m# Append dictionary to forecast data\u001b[39;00m\n",
      "\u001b[1;31mValueError\u001b[0m: The truth value of an array with more than one element is ambiguous. Use a.any() or a.all()"
     ]
    }
   ],
   "source": [
    "# Save the data to a JSON file\n",
    "output_json_file = \"forecast_production_data.json\"\n",
    "with open(output_json_file, \"w\", encoding=\"utf-8\") as f:\n",
    "    json.dump(lead_time_dicts, f, indent=4)\n",
    "\n",
    "# Display the output JSON file content\n",
    "import ace_tools as tools\n",
    "tools.display_dataframe_to_user(name=\"Forecast and Production Data\", dataframe=pd.DataFrame(lead_time_dicts))\n"
   ]
  }
 ],
 "metadata": {
  "kernelspec": {
   "display_name": "webapp_env_conda",
   "language": "python",
   "name": "python3"
  },
  "language_info": {
   "codemirror_mode": {
    "name": "ipython",
    "version": 3
   },
   "file_extension": ".py",
   "mimetype": "text/x-python",
   "name": "python",
   "nbconvert_exporter": "python",
   "pygments_lexer": "ipython3",
   "version": "3.12.7"
  }
 },
 "nbformat": 4,
 "nbformat_minor": 2
}
